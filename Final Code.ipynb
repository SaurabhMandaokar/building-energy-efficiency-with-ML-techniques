{
 "cells": [
  {
   "cell_type": "markdown",
   "metadata": {},
   "source": [
    "## importing libraries"
   ]
  },
  {
   "cell_type": "code",
   "execution_count": 37,
   "metadata": {},
   "outputs": [],
   "source": [
    "import numpy as np\n",
    "import pandas as pd\n",
    "import matplotlib.pyplot as plt\n",
    "import seaborn as sns\n",
    "import statsmodels.api as sm\n",
    "from sklearn.preprocessing import Normalizer\n",
    "from sklearn.decomposition import PCA\n",
    "from sklearn.model_selection import train_test_split\n",
    "from sklearn import linear_model\n",
    "from sklearn.metrics import r2_score as r2\n",
    "from sklearn.metrics import mean_squared_error\n",
    "from sklearn.neighbors import KNeighborsRegressor as KNN\n",
    "from sklearn.tree import DecisionTreeRegressor as DTR\n",
    "from sklearn.ensemble import RandomForestRegressor as RFR\n",
    "from statsmodels.stats.outliers_influence import variance_inflation_factor"
   ]
  },
  {
   "cell_type": "markdown",
   "metadata": {},
   "source": [
    "## reading the original data "
   ]
  },
  {
   "cell_type": "code",
   "execution_count": 38,
   "metadata": {},
   "outputs": [],
   "source": [
    "df_ori = pd.read_excel(\"ENB2012_data.xlsx\")\n",
    "Y1 = df_ori.iloc[:,8].values  # Y1 is heating load\n",
    "Y2 = df_ori.iloc[:,9].values  # Y2 is cooling load\n",
    "X = df_ori.iloc[:,[1, 2, 3, 4, 5, 6, 7]].values"
   ]
  },
  {
   "cell_type": "markdown",
   "metadata": {},
   "source": [
    "## Correlation matrix for original data"
   ]
  },
  {
   "cell_type": "code",
   "execution_count": 39,
   "metadata": {},
   "outputs": [
    {
     "data": {
      "text/html": [
       "<div>\n",
       "<style scoped>\n",
       "    .dataframe tbody tr th:only-of-type {\n",
       "        vertical-align: middle;\n",
       "    }\n",
       "\n",
       "    .dataframe tbody tr th {\n",
       "        vertical-align: top;\n",
       "    }\n",
       "\n",
       "    .dataframe thead th {\n",
       "        text-align: right;\n",
       "    }\n",
       "</style>\n",
       "<table border=\"1\" class=\"dataframe\">\n",
       "  <thead>\n",
       "    <tr style=\"text-align: right;\">\n",
       "      <th></th>\n",
       "      <th>X1</th>\n",
       "      <th>X2</th>\n",
       "      <th>X3</th>\n",
       "      <th>X4</th>\n",
       "      <th>X5</th>\n",
       "      <th>X6</th>\n",
       "      <th>X7</th>\n",
       "      <th>X8</th>\n",
       "      <th>Y1</th>\n",
       "      <th>Y2</th>\n",
       "    </tr>\n",
       "  </thead>\n",
       "  <tbody>\n",
       "    <tr>\n",
       "      <th>X1</th>\n",
       "      <td>1.000000e+00</td>\n",
       "      <td>-9.919015e-01</td>\n",
       "      <td>-2.037817e-01</td>\n",
       "      <td>-8.688234e-01</td>\n",
       "      <td>8.277473e-01</td>\n",
       "      <td>0.000000</td>\n",
       "      <td>1.283986e-17</td>\n",
       "      <td>1.764620e-17</td>\n",
       "      <td>0.622272</td>\n",
       "      <td>0.634339</td>\n",
       "    </tr>\n",
       "    <tr>\n",
       "      <th>X2</th>\n",
       "      <td>-9.919015e-01</td>\n",
       "      <td>1.000000e+00</td>\n",
       "      <td>1.955016e-01</td>\n",
       "      <td>8.807195e-01</td>\n",
       "      <td>-8.581477e-01</td>\n",
       "      <td>0.000000</td>\n",
       "      <td>1.318356e-16</td>\n",
       "      <td>-3.558613e-16</td>\n",
       "      <td>-0.658120</td>\n",
       "      <td>-0.672999</td>\n",
       "    </tr>\n",
       "    <tr>\n",
       "      <th>X3</th>\n",
       "      <td>-2.037817e-01</td>\n",
       "      <td>1.955016e-01</td>\n",
       "      <td>1.000000e+00</td>\n",
       "      <td>-2.923165e-01</td>\n",
       "      <td>2.809757e-01</td>\n",
       "      <td>0.000000</td>\n",
       "      <td>-7.969726e-19</td>\n",
       "      <td>0.000000e+00</td>\n",
       "      <td>0.455671</td>\n",
       "      <td>0.427117</td>\n",
       "    </tr>\n",
       "    <tr>\n",
       "      <th>X4</th>\n",
       "      <td>-8.688234e-01</td>\n",
       "      <td>8.807195e-01</td>\n",
       "      <td>-2.923165e-01</td>\n",
       "      <td>1.000000e+00</td>\n",
       "      <td>-9.725122e-01</td>\n",
       "      <td>0.000000</td>\n",
       "      <td>-1.381805e-16</td>\n",
       "      <td>-1.079129e-16</td>\n",
       "      <td>-0.861828</td>\n",
       "      <td>-0.862547</td>\n",
       "    </tr>\n",
       "    <tr>\n",
       "      <th>X5</th>\n",
       "      <td>8.277473e-01</td>\n",
       "      <td>-8.581477e-01</td>\n",
       "      <td>2.809757e-01</td>\n",
       "      <td>-9.725122e-01</td>\n",
       "      <td>1.000000e+00</td>\n",
       "      <td>0.000000</td>\n",
       "      <td>1.861418e-18</td>\n",
       "      <td>0.000000e+00</td>\n",
       "      <td>0.889430</td>\n",
       "      <td>0.895785</td>\n",
       "    </tr>\n",
       "    <tr>\n",
       "      <th>X6</th>\n",
       "      <td>0.000000e+00</td>\n",
       "      <td>0.000000e+00</td>\n",
       "      <td>0.000000e+00</td>\n",
       "      <td>0.000000e+00</td>\n",
       "      <td>0.000000e+00</td>\n",
       "      <td>1.000000</td>\n",
       "      <td>0.000000e+00</td>\n",
       "      <td>0.000000e+00</td>\n",
       "      <td>-0.002587</td>\n",
       "      <td>0.014290</td>\n",
       "    </tr>\n",
       "    <tr>\n",
       "      <th>X7</th>\n",
       "      <td>1.283986e-17</td>\n",
       "      <td>1.318356e-16</td>\n",
       "      <td>-7.969726e-19</td>\n",
       "      <td>-1.381805e-16</td>\n",
       "      <td>1.861418e-18</td>\n",
       "      <td>0.000000</td>\n",
       "      <td>1.000000e+00</td>\n",
       "      <td>2.129642e-01</td>\n",
       "      <td>0.269842</td>\n",
       "      <td>0.207505</td>\n",
       "    </tr>\n",
       "    <tr>\n",
       "      <th>X8</th>\n",
       "      <td>1.764620e-17</td>\n",
       "      <td>-3.558613e-16</td>\n",
       "      <td>0.000000e+00</td>\n",
       "      <td>-1.079129e-16</td>\n",
       "      <td>0.000000e+00</td>\n",
       "      <td>0.000000</td>\n",
       "      <td>2.129642e-01</td>\n",
       "      <td>1.000000e+00</td>\n",
       "      <td>0.087368</td>\n",
       "      <td>0.050525</td>\n",
       "    </tr>\n",
       "    <tr>\n",
       "      <th>Y1</th>\n",
       "      <td>6.222719e-01</td>\n",
       "      <td>-6.581199e-01</td>\n",
       "      <td>4.556714e-01</td>\n",
       "      <td>-8.618281e-01</td>\n",
       "      <td>8.894305e-01</td>\n",
       "      <td>-0.002587</td>\n",
       "      <td>2.698417e-01</td>\n",
       "      <td>8.736846e-02</td>\n",
       "      <td>1.000000</td>\n",
       "      <td>0.975862</td>\n",
       "    </tr>\n",
       "    <tr>\n",
       "      <th>Y2</th>\n",
       "      <td>6.343391e-01</td>\n",
       "      <td>-6.729989e-01</td>\n",
       "      <td>4.271170e-01</td>\n",
       "      <td>-8.625466e-01</td>\n",
       "      <td>8.957852e-01</td>\n",
       "      <td>0.014290</td>\n",
       "      <td>2.075050e-01</td>\n",
       "      <td>5.052512e-02</td>\n",
       "      <td>0.975862</td>\n",
       "      <td>1.000000</td>\n",
       "    </tr>\n",
       "  </tbody>\n",
       "</table>\n",
       "</div>"
      ],
      "text/plain": [
       "              X1            X2            X3            X4            X5  \\\n",
       "X1  1.000000e+00 -9.919015e-01 -2.037817e-01 -8.688234e-01  8.277473e-01   \n",
       "X2 -9.919015e-01  1.000000e+00  1.955016e-01  8.807195e-01 -8.581477e-01   \n",
       "X3 -2.037817e-01  1.955016e-01  1.000000e+00 -2.923165e-01  2.809757e-01   \n",
       "X4 -8.688234e-01  8.807195e-01 -2.923165e-01  1.000000e+00 -9.725122e-01   \n",
       "X5  8.277473e-01 -8.581477e-01  2.809757e-01 -9.725122e-01  1.000000e+00   \n",
       "X6  0.000000e+00  0.000000e+00  0.000000e+00  0.000000e+00  0.000000e+00   \n",
       "X7  1.283986e-17  1.318356e-16 -7.969726e-19 -1.381805e-16  1.861418e-18   \n",
       "X8  1.764620e-17 -3.558613e-16  0.000000e+00 -1.079129e-16  0.000000e+00   \n",
       "Y1  6.222719e-01 -6.581199e-01  4.556714e-01 -8.618281e-01  8.894305e-01   \n",
       "Y2  6.343391e-01 -6.729989e-01  4.271170e-01 -8.625466e-01  8.957852e-01   \n",
       "\n",
       "          X6            X7            X8        Y1        Y2  \n",
       "X1  0.000000  1.283986e-17  1.764620e-17  0.622272  0.634339  \n",
       "X2  0.000000  1.318356e-16 -3.558613e-16 -0.658120 -0.672999  \n",
       "X3  0.000000 -7.969726e-19  0.000000e+00  0.455671  0.427117  \n",
       "X4  0.000000 -1.381805e-16 -1.079129e-16 -0.861828 -0.862547  \n",
       "X5  0.000000  1.861418e-18  0.000000e+00  0.889430  0.895785  \n",
       "X6  1.000000  0.000000e+00  0.000000e+00 -0.002587  0.014290  \n",
       "X7  0.000000  1.000000e+00  2.129642e-01  0.269842  0.207505  \n",
       "X8  0.000000  2.129642e-01  1.000000e+00  0.087368  0.050525  \n",
       "Y1 -0.002587  2.698417e-01  8.736846e-02  1.000000  0.975862  \n",
       "Y2  0.014290  2.075050e-01  5.052512e-02  0.975862  1.000000  "
      ]
     },
     "metadata": {},
     "output_type": "display_data"
    },
    {
     "data": {
      "text/plain": [
       "<matplotlib.axes._subplots.AxesSubplot at 0x278a5e1ef0>"
      ]
     },
     "execution_count": 39,
     "metadata": {},
     "output_type": "execute_result"
    },
    {
     "data": {
      "image/png": "[encoded data removed]",
      "text/plain": [
       "<Figure size 432x288 with 2 Axes>"
      ]
     },
     "metadata": {
      "needs_background": "light"
     },
     "output_type": "display_data"
    }
   ],
   "source": [
    "corrmat = df_ori.corr()\n",
    "# to find the correlation matrix for features only\n",
    "display(corrmat)\n",
    "\n",
    "# also we can find the heatmap to get better visual idea\n",
    "sns.heatmap(corrmat, xticklabels = corrmat.columns, yticklabels = corrmat.columns, cmap = 'RdBu')"
   ]
  },
  {
   "cell_type": "markdown",
   "metadata": {},
   "source": [
    "## Reading imputed data"
   ]
  },
  {
   "cell_type": "code",
   "execution_count": 40,
   "metadata": {},
   "outputs": [],
   "source": [
    "df = pd.read_csv('final_imputed.csv')\n",
    "Y1 = df.iloc[:,8].values  # Y1 is heating load\n",
    "Y2 = df.iloc[:,9].values  # Y2 is cooling load\n",
    "X = df.iloc[:,[0,1,2,3, 4, 5, 6, 7]].values"
   ]
  },
  {
   "cell_type": "markdown",
   "metadata": {},
   "source": [
    "## VIF for imputed data"
   ]
  },
  {
   "cell_type": "code",
   "execution_count": 41,
   "metadata": {},
   "outputs": [
    {
     "name": "stdout",
     "output_type": "stream",
     "text": [
      "VIF DATA\n",
      "----------------------------------------------------------------------------------------------------\n"
     ]
    },
    {
     "name": "stderr",
     "output_type": "stream",
     "text": [
      "C:\\Users\\Admin\\Anaconda3\\lib\\site-packages\\numpy\\core\\fromnumeric.py:2389: FutureWarning: Method .ptp is deprecated and will be removed in a future version. Use numpy.ptp instead.\n",
      "  return ptp(axis=axis, out=out, **kwargs)\n"
     ]
    },
    {
     "data": {
      "text/plain": [
       "const    31678.696187\n",
       "X1         108.284836\n",
       "X2        1334.089813\n",
       "X3         304.978293\n",
       "X4        1335.328284\n",
       "X5          31.836044\n",
       "X6           1.027926\n",
       "X7           1.887379\n",
       "X8           1.078357\n",
       "Y1          32.618265\n",
       "Y2          24.361169\n",
       "dtype: float64"
      ]
     },
     "metadata": {},
     "output_type": "display_data"
    }
   ],
   "source": [
    "# Finding the VIF for all the features\n",
    "VX = sm.tools.add_constant(df)\n",
    "#create series for both\n",
    "series = pd.Series([variance_inflation_factor(VX.values, i) for i in range(VX.shape[1])],index = VX.columns)\n",
    "print('VIF DATA')\n",
    "print('-'*100)\n",
    "display(series)"
   ]
  },
  {
   "cell_type": "code",
   "execution_count": 42,
   "metadata": {},
   "outputs": [],
   "source": [
    "#CONCLUSIONS#\n",
    "#From the above data of VIF we can say some of the features are highly correlated.\n",
    "#By removing those features we can make a good model."
   ]
  },
  {
   "cell_type": "markdown",
   "metadata": {},
   "source": [
    "## Splitting in training and testing sets for heating load"
   ]
  },
  {
   "cell_type": "code",
   "execution_count": 43,
   "metadata": {},
   "outputs": [],
   "source": [
    "X1_train,X1_test,y1_train,y1_test = train_test_split(X, Y1, test_size=0.2, random_state = 0 )"
   ]
  },
  {
   "cell_type": "markdown",
   "metadata": {},
   "source": [
    "## Splitting in training and testing sets for Cooling load"
   ]
  },
  {
   "cell_type": "code",
   "execution_count": 44,
   "metadata": {},
   "outputs": [],
   "source": [
    "X2_train,X2_test,y2_train,y2_test = train_test_split(X, Y2, test_size=0.2, random_state = 0)"
   ]
  },
  {
   "cell_type": "code",
   "execution_count": 45,
   "metadata": {},
   "outputs": [],
   "source": [
    "#sns.pairplot(df)"
   ]
  },
  {
   "cell_type": "markdown",
   "metadata": {},
   "source": [
    "## normalizing and appyling PCA so that data reduces to 2D and easily visualize, and can conclude the machine learning techniques that can be used  for used data"
   ]
  },
  {
   "cell_type": "code",
   "execution_count": 46,
   "metadata": {},
   "outputs": [
    {
     "data": {
      "image/png": "[encoded data removed]",
      "text/plain": [
       "<Figure size 504x504 with 1 Axes>"
      ]
     },
     "metadata": {
      "needs_background": "light"
     },
     "output_type": "display_data"
    }
   ],
   "source": [
    "pca = PCA(n_components=2)\n",
    "normalizer = Normalizer(copy=False)\n",
    "X_norm = normalizer.fit_transform(X)\n",
    "X_reduced = pca.fit_transform(X_norm)\n",
    "\n",
    "plt.figure(figsize = (7 , 7))\n",
    "plt.scatter(X_reduced[:,0],X_reduced[:,1], s = 1.8)\n",
    "plt.title('Visualizing PCA data')\n",
    "plt.show()"
   ]
  },
  {
   "cell_type": "markdown",
   "metadata": {},
   "source": [
    "Here we can see that whole data is very separate and divided approximately in 12 clusters"
   ]
  },
  {
   "cell_type": "markdown",
   "metadata": {},
   "source": [
    "## To fit the appropriate model and to select model we need to reduce dimensions of the training data and testing set for features"
   ]
  },
  {
   "cell_type": "markdown",
   "metadata": {},
   "source": [
    "###### i.e. one dimension from training set and testing sets individually"
   ]
  },
  {
   "cell_type": "markdown",
   "metadata": {},
   "source": [
    "##### for heating load"
   ]
  },
  {
   "cell_type": "code",
   "execution_count": 47,
   "metadata": {},
   "outputs": [],
   "source": [
    "# for X1_train\n",
    "pca = PCA(n_components=1)\n",
    "normalizer = Normalizer(copy=False)\n",
    "X1_train_norm = normalizer.fit_transform(X1_train)\n",
    "X1_train_reduced = pca.fit_transform(X1_train_norm)\n",
    "\n",
    "# for X1_test\n",
    "X1_test_norm = normalizer.transform(X1_test)\n",
    "X1_test_reduced = pca.transform(X1_test_norm)"
   ]
  },
  {
   "cell_type": "markdown",
   "metadata": {},
   "source": [
    "##### for cooling load"
   ]
  },
  {
   "cell_type": "code",
   "execution_count": 48,
   "metadata": {},
   "outputs": [],
   "source": [
    "# for X2_train\n",
    "pca = PCA(n_components=1)\n",
    "normalizer = Normalizer(copy=False)\n",
    "X2_train_norm = normalizer.fit_transform(X2_train)\n",
    "X2_train_reduced = pca.fit_transform(X2_train_norm)\n",
    "\n",
    "# for X2_test\n",
    "X2_test_norm = normalizer.transform(X2_test)\n",
    "X2_test_reduced = pca.transform(X2_test_norm)"
   ]
  },
  {
   "cell_type": "markdown",
   "metadata": {},
   "source": [
    "## Trying fitting Linear regression in reduced training sets"
   ]
  },
  {
   "cell_type": "markdown",
   "metadata": {},
   "source": [
    "###### for heating load"
   ]
  },
  {
   "cell_type": "code",
   "execution_count": 49,
   "metadata": {},
   "outputs": [],
   "source": [
    "regr_heat = linear_model.LinearRegression()\n",
    "regr_heat.fit(X1_train_reduced, y1_train)\n",
    "Y1_predict = regr_heat.predict(X1_test_reduced)"
   ]
  },
  {
   "cell_type": "markdown",
   "metadata": {},
   "source": [
    "###### for cooling load"
   ]
  },
  {
   "cell_type": "code",
   "execution_count": 50,
   "metadata": {},
   "outputs": [
    {
     "data": {
      "text/plain": [
       "LinearRegression(copy_X=True, fit_intercept=True, n_jobs=None, normalize=False)"
      ]
     },
     "execution_count": 50,
     "metadata": {},
     "output_type": "execute_result"
    }
   ],
   "source": [
    "regr_cool = linear_model.LinearRegression()\n",
    "regr_cool.fit(X2_train_reduced, y2_train)"
   ]
  },
  {
   "cell_type": "markdown",
   "metadata": {},
   "source": [
    "###### Plotting both (Red = heating data set and Blue = cooling data set)"
   ]
  },
  {
   "cell_type": "code",
   "execution_count": 51,
   "metadata": {},
   "outputs": [
    {
     "data": {
      "image/png": "[encoded data removed]",
      "text/plain": [
       "<Figure size 504x504 with 1 Axes>"
      ]
     },
     "metadata": {
      "needs_background": "light"
     },
     "output_type": "display_data"
    },
    {
     "data": {
      "image/png": "[encoded data removed]",
      "text/plain": [
       "<Figure size 504x504 with 1 Axes>"
      ]
     },
     "metadata": {
      "needs_background": "light"
     },
     "output_type": "display_data"
    }
   ],
   "source": [
    "plt.figure(figsize = (7 , 7))\n",
    "plt.xlabel('Reduced test data')\n",
    "plt.ylabel('Heating Load')\n",
    "plt.title('Linear Regression for heating load')\n",
    "plt.scatter(X1_test_reduced, y1_test, color = 'red', marker = '*')\n",
    "plt.plot(X1_test_reduced, regr_heat.predict(X1_test_reduced), color = 'black')\n",
    "plt.show()\n",
    "\n",
    "plt.figure(figsize = (7 , 7))\n",
    "plt.xlabel('Reduced test data')\n",
    "plt.ylabel('Cooling Load')\n",
    "plt.title('Linear Regression for Cooling load')\n",
    "plt.scatter(X2_test_reduced, y2_test, color = 'blue', marker = '*')\n",
    "plt.plot(X2_test_reduced, regr_cool.predict(X2_test_reduced), color = 'black')\n",
    "plt.show()"
   ]
  },
  {
   "cell_type": "code",
   "execution_count": 52,
   "metadata": {},
   "outputs": [
    {
     "name": "stdout",
     "output_type": "stream",
     "text": [
      "Model summary for Heating Load\n",
      "                                 OLS Regression Results                                \n",
      "=======================================================================================\n",
      "Dep. Variable:                      y   R-squared (uncentered):                   0.128\n",
      "Model:                            OLS   Adj. R-squared (uncentered):              0.126\n",
      "Method:                 Least Squares   F-statistic:                              89.65\n",
      "Date:                Sun, 27 Oct 2019   Prob (F-statistic):                    6.04e-20\n",
      "Time:                        21:18:27   Log-Likelihood:                         -2788.7\n",
      "No. Observations:                 614   AIC:                                      5579.\n",
      "Df Residuals:                     613   BIC:                                      5584.\n",
      "Df Model:                           1                                                  \n",
      "Covariance Type:            nonrobust                                                  \n",
      "==============================================================================\n",
      "                 coef    std err          t      P>|t|      [0.025      0.975]\n",
      "------------------------------------------------------------------------------\n",
      "x1           113.8345     12.022      9.468      0.000      90.224     137.445\n",
      "==============================================================================\n",
      "Omnibus:                       18.754   Durbin-Watson:                   0.089\n",
      "Prob(Omnibus):                  0.000   Jarque-Bera (JB):               27.310\n",
      "Skew:                           0.269   Prob(JB):                     1.17e-06\n",
      "Kurtosis:                       3.882   Cond. No.                         1.00\n",
      "==============================================================================\n",
      "\n",
      "Warnings:\n",
      "[1] Standard Errors assume that the covariance matrix of the errors is correctly specified.\n",
      "                                                                                                    \n",
      "****************************************************************************************************\n",
      "****************************************************************************************************\n",
      "****************************************************************************************************\n",
      "                                                                                                    \n",
      "Model summary for cooling Load\n",
      "                                 OLS Regression Results                                \n",
      "=======================================================================================\n",
      "Dep. Variable:                      y   R-squared (uncentered):                   0.095\n",
      "Model:                            OLS   Adj. R-squared (uncentered):              0.094\n",
      "Method:                 Least Squares   F-statistic:                              64.41\n",
      "Date:                Sun, 27 Oct 2019   Prob (F-statistic):                    5.17e-15\n",
      "Time:                        21:18:27   Log-Likelihood:                         -2847.6\n",
      "No. Observations:                 614   AIC:                                      5697.\n",
      "Df Residuals:                     613   BIC:                                      5702.\n",
      "Df Model:                           1                                                  \n",
      "Covariance Type:            nonrobust                                                  \n",
      "==============================================================================\n",
      "                 coef    std err          t      P>|t|      [0.025      0.975]\n",
      "------------------------------------------------------------------------------\n",
      "x1           106.1932     13.232      8.025      0.000      80.207     132.179\n",
      "==============================================================================\n",
      "Omnibus:                       66.584   Durbin-Watson:                   0.073\n",
      "Prob(Omnibus):                  0.000   Jarque-Bera (JB):              102.796\n",
      "Skew:                           0.740   Prob(JB):                     4.77e-23\n",
      "Kurtosis:                       4.353   Cond. No.                         1.00\n",
      "==============================================================================\n",
      "\n",
      "Warnings:\n",
      "[1] Standard Errors assume that the covariance matrix of the errors is correctly specified.\n"
     ]
    }
   ],
   "source": [
    "regr_heat = sm.OLS(y1_train, X1_train_reduced)\n",
    "model_heat = regr_heat.fit()\n",
    "print(\"Model summary for Heating Load\")\n",
    "print(model_heat.summary())\n",
    "print(\" \"* 100)\n",
    "print(\"*\"* 100)\n",
    "print(\"*\"* 100)\n",
    "print(\"*\"* 100)\n",
    "print(\" \"* 100)\n",
    "regr_cool = sm.OLS(y2_train, X2_train_reduced)\n",
    "model_cool = regr_cool.fit()\n",
    "print(\"Model summary for cooling Load\")\n",
    "print(model_cool.summary())"
   ]
  },
  {
   "cell_type": "markdown",
   "metadata": {},
   "source": [
    "#### Since the r squared values are very low for linear regression hence it is not good fit"
   ]
  },
  {
   "cell_type": "markdown",
   "metadata": {},
   "source": [
    "## Trying fitting KNN regression in reduced training sets"
   ]
  },
  {
   "cell_type": "markdown",
   "metadata": {},
   "source": [
    "###### for heating data"
   ]
  },
  {
   "cell_type": "markdown",
   "metadata": {},
   "source": [
    "#### Parameter tuning according to knn score"
   ]
  },
  {
   "cell_type": "code",
   "execution_count": 53,
   "metadata": {},
   "outputs": [],
   "source": [
    "asc_red1 = []\n",
    "k_red1 = []\n",
    "for i in range(30):\n",
    "    regr_heat_KNN = KNN(n_neighbors = i+1)\n",
    "    regr_heat_KNN.fit(X1_train_reduced, y1_train)\n",
    "    asc_red1.append(regr_heat_KNN.score(X1_test_reduced,y1_test))\n",
    "    k_red1.append(i+1)"
   ]
  },
  {
   "cell_type": "code",
   "execution_count": 54,
   "metadata": {},
   "outputs": [
    {
     "name": "stdout",
     "output_type": "stream",
     "text": [
      "Thus maximum accuracy is for k = 27 for heating load when reduced features are taken\n"
     ]
    },
    {
     "data": {
      "image/png": "[encoded data removed]",
      "text/plain": [
       "<Figure size 432x288 with 1 Axes>"
      ]
     },
     "metadata": {
      "needs_background": "light"
     },
     "output_type": "display_data"
    }
   ],
   "source": [
    "plt.scatter(k_red1, asc_red1)\n",
    "plt.xlabel(\"K\")\n",
    "plt.ylabel(\"Accuracy\")\n",
    "plt.title(\"Accuracy vs K for heating load with PCA done\")\n",
    "print(f'Thus maximum accuracy is for k = {asc_red1.index(np.max(asc_red1)) + 1} for heating load when reduced features are taken')"
   ]
  },
  {
   "cell_type": "markdown",
   "metadata": {},
   "source": [
    "#### Parameter tuning according to Cross_val_score"
   ]
  },
  {
   "cell_type": "markdown",
   "metadata": {},
   "source": [
    "###### for cooling load"
   ]
  },
  {
   "cell_type": "markdown",
   "metadata": {},
   "source": [
    "#### Parameter tuning according to knn score"
   ]
  },
  {
   "cell_type": "code",
   "execution_count": 55,
   "metadata": {},
   "outputs": [],
   "source": [
    "asc_red2 = []\n",
    "k_red2 = []\n",
    "for i in range(30):\n",
    "    regr_cool_KNN = KNN(n_neighbors = i+1)\n",
    "    regr_cool_KNN.fit(X2_train_reduced, y2_train)\n",
    "    asc_red2.append(regr_cool_KNN.score(X2_test_reduced,y2_test))\n",
    "    k_red2.append(i+1)"
   ]
  },
  {
   "cell_type": "code",
   "execution_count": 56,
   "metadata": {},
   "outputs": [
    {
     "name": "stdout",
     "output_type": "stream",
     "text": [
      "Thus maximum accuracy is for k = 27 for cooling load when reduced features are taken\n"
     ]
    },
    {
     "data": {
      "image/png": "[encoded data removed]",
      "text/plain": [
       "<Figure size 432x288 with 1 Axes>"
      ]
     },
     "metadata": {
      "needs_background": "light"
     },
     "output_type": "display_data"
    }
   ],
   "source": [
    "plt.scatter(k_red2, asc_red2)\n",
    "plt.xlabel(\"K\")\n",
    "plt.ylabel(\"Accuracy\")\n",
    "plt.title(\"Accuracy vs K for cooling load with PCA done\")\n",
    "print(f'Thus maximum accuracy is for k = {asc_red2.index(np.max(asc_red2)) + 1} for cooling load when reduced features are taken')"
   ]
  },
  {
   "cell_type": "code",
   "execution_count": 57,
   "metadata": {},
   "outputs": [
    {
     "data": {
      "text/plain": [
       "KNeighborsRegressor(algorithm='auto', leaf_size=30, metric='minkowski',\n",
       "                    metric_params=None, n_jobs=None, n_neighbors=5, p=2,\n",
       "                    weights='uniform')"
      ]
     },
     "execution_count": 57,
     "metadata": {},
     "output_type": "execute_result"
    }
   ],
   "source": [
    "# fitting KNN with optimum K\n",
    "regr_heat_KNN = KNN(n_neighbors = 5)\n",
    "regr_heat_KNN.fit(X1_train_reduced, y1_train)\n",
    "regr_cool_KNN = KNN(n_neighbors = 5)\n",
    "regr_cool_KNN.fit(X2_train_reduced, y2_train)"
   ]
  },
  {
   "cell_type": "markdown",
   "metadata": {},
   "source": [
    "###### Plotting both (Red = heating data set and Blue = cooling data set)"
   ]
  },
  {
   "cell_type": "code",
   "execution_count": 64,
   "metadata": {},
   "outputs": [
    {
     "data": {
      "image/png": "[encoded data removed]",
      "text/plain": [
       "<Figure size 504x504 with 1 Axes>"
      ]
     },
     "metadata": {
      "needs_background": "light"
     },
     "output_type": "display_data"
    },
    {
     "name": "stdout",
     "output_type": "stream",
     "text": [
      "The accuracy for this model is 0.897063171758956\n"
     ]
    },
    {
     "data": {
      "image/png": "[encoded data removed]",
      "text/plain": [
       "<Figure size 504x504 with 1 Axes>"
      ]
     },
     "metadata": {
      "needs_background": "light"
     },
     "output_type": "display_data"
    },
    {
     "name": "stdout",
     "output_type": "stream",
     "text": [
      "The accuracy for this model is 0.921140080900405\n"
     ]
    }
   ],
   "source": [
    "plt.figure(figsize = (7 , 7))\n",
    "plt.xlabel('Reduced test data')\n",
    "plt.ylabel('Heating Load')\n",
    "plt.title('KNN Regression for heating')\n",
    "plt.scatter(X1_test_reduced,y1_test,color = 'red', marker = 'o')\n",
    "plt.scatter(X1_test_reduced, regr_heat_KNN.predict(X1_test_reduced), color = 'black')\n",
    "plt.show()\n",
    "print(f'The accuracy for this model is {regr_heat_KNN.score(X1_test_reduced,y1_test)}')\n",
    "\n",
    "plt.figure(figsize = (7 , 7))\n",
    "plt.xlabel('Reduced test data')\n",
    "plt.ylabel('Cooling Load')\n",
    "plt.title('KNN Regression for Cooling')\n",
    "plt.scatter(X2_test_reduced,y2_test,color = 'blue', marker = 'o')\n",
    "plt.scatter(X2_test_reduced, regr_cool_KNN.predict(X2_test_reduced), color = 'black')\n",
    "plt.show()\n",
    "print(f'The accuracy for this model is {regr_cool_KNN.score(X2_test_reduced,y2_test)}')"
   ]
  },
  {
   "cell_type": "markdown",
   "metadata": {},
   "source": [
    "## Trying fitting Decision Tree regression in reduced training sets"
   ]
  },
  {
   "cell_type": "markdown",
   "metadata": {},
   "source": [
    "###### for heating data"
   ]
  },
  {
   "cell_type": "code",
   "execution_count": 65,
   "metadata": {},
   "outputs": [
    {
     "data": {
      "text/plain": [
       "DecisionTreeRegressor(criterion='mse', max_depth=None, max_features=None,\n",
       "                      max_leaf_nodes=None, min_impurity_decrease=0.0,\n",
       "                      min_impurity_split=None, min_samples_leaf=1,\n",
       "                      min_samples_split=2, min_weight_fraction_leaf=0.0,\n",
       "                      presort=False, random_state=None, splitter='best')"
      ]
     },
     "execution_count": 65,
     "metadata": {},
     "output_type": "execute_result"
    }
   ],
   "source": [
    "regr_heat_DTR = DTR()\n",
    "regr_heat_DTR.fit(X1_train_reduced, y1_train)"
   ]
  },
  {
   "cell_type": "markdown",
   "metadata": {},
   "source": [
    "###### for cooling load"
   ]
  },
  {
   "cell_type": "code",
   "execution_count": 66,
   "metadata": {},
   "outputs": [
    {
     "data": {
      "text/plain": [
       "DecisionTreeRegressor(criterion='mse', max_depth=None, max_features=None,\n",
       "                      max_leaf_nodes=None, min_impurity_decrease=0.0,\n",
       "                      min_impurity_split=None, min_samples_leaf=1,\n",
       "                      min_samples_split=2, min_weight_fraction_leaf=0.0,\n",
       "                      presort=False, random_state=None, splitter='best')"
      ]
     },
     "execution_count": 66,
     "metadata": {},
     "output_type": "execute_result"
    }
   ],
   "source": [
    "regr_cool_DTR = DTR()\n",
    "regr_cool_DTR.fit(X2_train_reduced, y2_train)"
   ]
  },
  {
   "cell_type": "markdown",
   "metadata": {},
   "source": [
    "###### Plotting both (Red = heating data set and Blue = cooling data set)"
   ]
  },
  {
   "cell_type": "code",
   "execution_count": 67,
   "metadata": {},
   "outputs": [
    {
     "data": {
      "image/png": "[encoded data removed]",
      "text/plain": [
       "<Figure size 504x504 with 1 Axes>"
      ]
     },
     "metadata": {
      "needs_background": "light"
     },
     "output_type": "display_data"
    },
    {
     "name": "stdout",
     "output_type": "stream",
     "text": [
      "The accuracy for this model is 0.8727598258507117\n"
     ]
    },
    {
     "data": {
      "image/png": "[encoded data removed]",
      "text/plain": [
       "<Figure size 504x504 with 1 Axes>"
      ]
     },
     "metadata": {
      "needs_background": "light"
     },
     "output_type": "display_data"
    },
    {
     "name": "stdout",
     "output_type": "stream",
     "text": [
      "The accuracy for this model is 0.9070892583304828\n"
     ]
    }
   ],
   "source": [
    "plt.figure(figsize = (7 , 7))\n",
    "plt.xlabel('Reduced test data')\n",
    "plt.ylabel('Heating Load')\n",
    "plt.title('Decision Tree Regression for heating')\n",
    "plt.scatter(X1_test_reduced,y1_test,color = 'red', marker = 'o')\n",
    "plt.scatter(X1_test_reduced, regr_heat_DTR.predict(X1_test_reduced), color = 'black')\n",
    "plt.show()\n",
    "print(f'The accuracy for this model is {regr_heat_DTR.score(X1_test_reduced,y1_test)}')\n",
    "\n",
    "plt.figure(figsize = (7 , 7))\n",
    "plt.xlabel('Reduced test data')\n",
    "plt.ylabel('Cooling Load')\n",
    "plt.title('Decision Tree Regression for Cooling')\n",
    "plt.scatter(X2_test_reduced,y2_test,color = 'blue', marker = 'o')\n",
    "plt.scatter(X2_test_reduced, regr_cool_DTR.predict(X2_test_reduced), color = 'black')\n",
    "plt.show()\n",
    "print(f'The accuracy for this model is {regr_cool_DTR.score(X2_test_reduced,y2_test)}')"
   ]
  },
  {
   "cell_type": "markdown",
   "metadata": {},
   "source": [
    "## Trying fitting Random forest regression in reduced training sets"
   ]
  },
  {
   "cell_type": "markdown",
   "metadata": {},
   "source": [
    "###### for heating data"
   ]
  },
  {
   "cell_type": "code",
   "execution_count": 68,
   "metadata": {},
   "outputs": [
    {
     "name": "stderr",
     "output_type": "stream",
     "text": [
      "C:\\Users\\Admin\\Anaconda3\\lib\\site-packages\\sklearn\\ensemble\\forest.py:245: FutureWarning: The default value of n_estimators will change from 10 in version 0.20 to 100 in 0.22.\n",
      "  \"10 in version 0.20 to 100 in 0.22.\", FutureWarning)\n"
     ]
    },
    {
     "data": {
      "text/plain": [
       "RandomForestRegressor(bootstrap=True, criterion='mse', max_depth=None,\n",
       "                      max_features='auto', max_leaf_nodes=None,\n",
       "                      min_impurity_decrease=0.0, min_impurity_split=None,\n",
       "                      min_samples_leaf=1, min_samples_split=2,\n",
       "                      min_weight_fraction_leaf=0.0, n_estimators=10,\n",
       "                      n_jobs=None, oob_score=False, random_state=None,\n",
       "                      verbose=0, warm_start=False)"
      ]
     },
     "execution_count": 68,
     "metadata": {},
     "output_type": "execute_result"
    }
   ],
   "source": [
    "regr_heat_RFR = RFR()\n",
    "regr_heat_RFR.fit(X1_train_reduced, y1_train)"
   ]
  },
  {
   "cell_type": "markdown",
   "metadata": {},
   "source": [
    "###### for cooling data"
   ]
  },
  {
   "cell_type": "code",
   "execution_count": 69,
   "metadata": {},
   "outputs": [
    {
     "name": "stderr",
     "output_type": "stream",
     "text": [
      "C:\\Users\\Admin\\Anaconda3\\lib\\site-packages\\sklearn\\ensemble\\forest.py:245: FutureWarning: The default value of n_estimators will change from 10 in version 0.20 to 100 in 0.22.\n",
      "  \"10 in version 0.20 to 100 in 0.22.\", FutureWarning)\n"
     ]
    },
    {
     "data": {
      "text/plain": [
       "RandomForestRegressor(bootstrap=True, criterion='mse', max_depth=None,\n",
       "                      max_features='auto', max_leaf_nodes=None,\n",
       "                      min_impurity_decrease=0.0, min_impurity_split=None,\n",
       "                      min_samples_leaf=1, min_samples_split=2,\n",
       "                      min_weight_fraction_leaf=0.0, n_estimators=10,\n",
       "                      n_jobs=None, oob_score=False, random_state=None,\n",
       "                      verbose=0, warm_start=False)"
      ]
     },
     "execution_count": 69,
     "metadata": {},
     "output_type": "execute_result"
    }
   ],
   "source": [
    "regr_cool_RFR = RFR()\n",
    "regr_cool_RFR.fit(X2_train_reduced, y2_train)"
   ]
  },
  {
   "cell_type": "markdown",
   "metadata": {},
   "source": [
    "###### Plotting both (Red = heating data set and Blue = cooling data set)"
   ]
  },
  {
   "cell_type": "code",
   "execution_count": 70,
   "metadata": {},
   "outputs": [
    {
     "data": {
      "image/png": "[encoded data removed]",
      "text/plain": [
       "<Figure size 504x504 with 1 Axes>"
      ]
     },
     "metadata": {
      "needs_background": "light"
     },
     "output_type": "display_data"
    },
    {
     "name": "stdout",
     "output_type": "stream",
     "text": [
      "The accuracy for this model is 0.882912063362348\n"
     ]
    },
    {
     "data": {
      "image/png": "[encoded data removed]",
      "text/plain": [
       "<Figure size 504x504 with 1 Axes>"
      ]
     },
     "metadata": {
      "needs_background": "light"
     },
     "output_type": "display_data"
    },
    {
     "name": "stdout",
     "output_type": "stream",
     "text": [
      "The accuracy for this model is 0.9230560719610192\n"
     ]
    }
   ],
   "source": [
    "plt.figure(figsize = (7 , 7))\n",
    "plt.xlabel('Reduced test data')\n",
    "plt.ylabel('Heating Load')\n",
    "plt.title('Random Forest Regression for heating')\n",
    "plt.scatter(X1_test_reduced,y1_test,color = 'red', marker = 'o')\n",
    "plt.scatter(X1_test_reduced, regr_heat_RFR.predict(X1_test_reduced), color = 'black')\n",
    "plt.show()\n",
    "print(f'The accuracy for this model is {regr_heat_RFR.score(X1_test_reduced,y1_test)}')\n",
    "\n",
    "plt.figure(figsize = (7, 7))\n",
    "plt.xlabel('Reduced test data')\n",
    "plt.ylabel('Cooling Load')\n",
    "plt.title('Random Forest Regression for Cooling')\n",
    "plt.scatter(X2_test_reduced,y2_test,color = 'blue', marker = 'o')\n",
    "plt.scatter(X2_test_reduced, regr_cool_RFR.predict(X2_test_reduced), color = 'black')\n",
    "plt.show()\n",
    "print(f'The accuracy for this model is {regr_cool_RFR.score(X2_test_reduced,y2_test)}')"
   ]
  },
  {
   "cell_type": "markdown",
   "metadata": {},
   "source": [
    "### Conclusion: Since all KNN, Decision Tree and Random Forest gave almost same and decent results, so applying this methods for the non reduced data. And rejecting Linear Regression due to very low R squared value"
   ]
  },
  {
   "cell_type": "markdown",
   "metadata": {},
   "source": [
    "# Fitting Non reduced imputed Data in selected 3 models"
   ]
  },
  {
   "cell_type": "markdown",
   "metadata": {},
   "source": [
    "# 1) KNN regressor"
   ]
  },
  {
   "cell_type": "markdown",
   "metadata": {},
   "source": [
    "###### for heating data"
   ]
  },
  {
   "cell_type": "code",
   "execution_count": 71,
   "metadata": {},
   "outputs": [],
   "source": [
    "from sklearn.model_selection import cross_val_score\n",
    "scores_knn=[]\n",
    "k_red1=[]\n",
    "for i in range(30):\n",
    "    regr_heat_KNN = KNN(n_neighbors = i+1)\n",
    "    scores1 = cross_val_score(regr_heat_KNN,X, Y1,cv=10)\n",
    "    scores_knn.append(scores1.mean())\n",
    "    k_red1.append(i+1)"
   ]
  },
  {
   "cell_type": "code",
   "execution_count": 72,
   "metadata": {},
   "outputs": [
    {
     "name": "stdout",
     "output_type": "stream",
     "text": [
      "Thus maximum Cross_val_score = 0.8844671788419356 is for k = 5 for heating load .\n"
     ]
    },
    {
     "data": {
      "image/png": "[encoded data removed]",
      "text/plain": [
       "<Figure size 432x288 with 1 Axes>"
      ]
     },
     "metadata": {
      "needs_background": "light"
     },
     "output_type": "display_data"
    }
   ],
   "source": [
    "plt.scatter(k_red1,scores_knn )\n",
    "plt.xlabel(\"K\")\n",
    "plt.ylabel(\"Cross_val_score\")\n",
    "plt.title(\"Cross_val_score vs K for heating load with PCA done\")\n",
    "print(f'Thus maximum Cross_val_score = {scores_knn[scores_knn.index(np.max(scores_knn))]} is for k = {scores_knn.index(np.max(scores_knn)) + 1} for heating load .')"
   ]
  },
  {
   "cell_type": "markdown",
   "metadata": {},
   "source": [
    "###### For cooling data"
   ]
  },
  {
   "cell_type": "code",
   "execution_count": 73,
   "metadata": {},
   "outputs": [],
   "source": [
    "scores_knn1=[]\n",
    "k_red2=[]\n",
    "for i in range(30):\n",
    "    regr_cool_KNN = KNN(n_neighbors = i+1)\n",
    "    scores1 = cross_val_score(regr_cool_KNN,X, Y2,cv=10)\n",
    "    scores_knn1.append(scores1.mean())\n",
    "    k_red2.append(i+1)"
   ]
  },
  {
   "cell_type": "code",
   "execution_count": 74,
   "metadata": {},
   "outputs": [
    {
     "name": "stdout",
     "output_type": "stream",
     "text": [
      "Thus maximum Cross_val_score = 0.9196847096289688 is for k = 5 for cooling load .\n"
     ]
    },
    {
     "data": {
      "image/png": "[encoded data removed]",
      "text/plain": [
       "<Figure size 432x288 with 1 Axes>"
      ]
     },
     "metadata": {
      "needs_background": "light"
     },
     "output_type": "display_data"
    }
   ],
   "source": [
    "plt.scatter(k_red2,scores_knn1 )\n",
    "plt.xlabel(\"K\")\n",
    "plt.ylabel(\"Cross_val_score\")\n",
    "plt.title(\"Cross_val_score vs K for cooling load with PCA done\")\n",
    "print(f'Thus maximum Cross_val_score = {scores_knn1[scores_knn1.index(np.max(scores_knn1)) ]} is for k = {scores_knn1.index(np.max(scores_knn1)) + 1} for cooling load .')"
   ]
  },
  {
   "cell_type": "code",
   "execution_count": 75,
   "metadata": {},
   "outputs": [
    {
     "data": {
      "text/plain": [
       "KNeighborsRegressor(algorithm='auto', leaf_size=30, metric='minkowski',\n",
       "                    metric_params=None, n_jobs=None, n_neighbors=5, p=2,\n",
       "                    weights='uniform')"
      ]
     },
     "execution_count": 75,
     "metadata": {},
     "output_type": "execute_result"
    }
   ],
   "source": [
    "# fitting KNN for both with optimum K\n",
    "Reg_heat_KNN = KNN(n_neighbors =scores_knn.index(np.max(scores_knn)) + 1)\n",
    "Reg_heat_KNN.fit(X1_train,y1_train)\n",
    "\n",
    "Reg_cool_KNN = KNN(n_neighbors = scores_knn.index(np.max(scores_knn)) + 1)\n",
    "Reg_cool_KNN.fit(X2_train,y2_train)"
   ]
  },
  {
   "cell_type": "markdown",
   "metadata": {},
   "source": [
    "###### Accuracy for both"
   ]
  },
  {
   "cell_type": "markdown",
   "metadata": {},
   "source": [
    "## KNN score"
   ]
  },
  {
   "cell_type": "code",
   "execution_count": 76,
   "metadata": {},
   "outputs": [
    {
     "name": "stdout",
     "output_type": "stream",
     "text": [
      "Accuracy for heating data model is 0.9423980407494399\n",
      "Accuracy for cooling data model is 0.9506609154438678\n"
     ]
    }
   ],
   "source": [
    "print(f'Accuracy for heating data model is {Reg_heat_KNN.score(X1_test,y1_test)}')\n",
    "print(f'Accuracy for cooling data model is {Reg_cool_KNN.score(X2_test,y2_test)}')"
   ]
  },
  {
   "cell_type": "markdown",
   "metadata": {},
   "source": [
    "## RMSE value"
   ]
  },
  {
   "cell_type": "code",
   "execution_count": 80,
   "metadata": {},
   "outputs": [
    {
     "name": "stdout",
     "output_type": "stream",
     "text": [
      "Heating RMSE: 2.5220566177975914\n",
      "Cooling RMSE: 2.1542090361495956\n"
     ]
    }
   ],
   "source": [
    "import math\n",
    "from sklearn.metrics import r2_score\n",
    "Y1_predict = Reg_heat_KNN.predict(X1_test)\n",
    "Y2_predict = Reg_cool_KNN.predict(X2_test)\n",
    "regression_model_mse_heat = mean_squared_error(y1_test,Y1_predict )\n",
    "regression_model_rmse_heat = math.sqrt(regression_model_mse_heat)\n",
    "regression_model_mse_cool = mean_squared_error( y2_test,Y2_predict )\n",
    "regression_model_rmse_cool = math.sqrt(regression_model_mse_cool)\n",
    "# Printing the RMSE values of test and train\n",
    "print(f'Heating RMSE: {regression_model_rmse_heat}')\n",
    "print(f'Cooling RMSE: {regression_model_rmse_cool}')"
   ]
  },
  {
   "cell_type": "markdown",
   "metadata": {},
   "source": [
    "## r2_score"
   ]
  },
  {
   "cell_type": "code",
   "execution_count": 81,
   "metadata": {},
   "outputs": [
    {
     "name": "stdout",
     "output_type": "stream",
     "text": [
      "Heating r2_score: 0.9423980407494399\n",
      "Cooling r2_score: 0.9506609154438678\n"
     ]
    }
   ],
   "source": [
    "heat_r2 = r2_score(y1_test,Y1_predict)\n",
    "cool_r2 = r2_score(y2_test,Y2_predict)\n",
    "print(f'Heating r2_score: {heat_r2}')\n",
    "print(f'Cooling r2_score: {cool_r2}')"
   ]
  },
  {
   "cell_type": "markdown",
   "metadata": {},
   "source": [
    "## Cross_val_score"
   ]
  },
  {
   "cell_type": "code",
   "execution_count": 82,
   "metadata": {},
   "outputs": [
    {
     "name": "stdout",
     "output_type": "stream",
     "text": [
      "Cross val score of KNN with Heating Load: 0.8962776674820899\n",
      "Cross val score of KNN with Cooling Load: 0.9128533987248169\n"
     ]
    }
   ],
   "source": [
    "# For heating load\n",
    "from sklearn.model_selection import cross_val_score\n",
    "Regr_heat_KNN = KNN(n_neighbors = 4)\n",
    "scores1 = cross_val_score(Regr_heat_KNN,X1_test, y1_test,cv=10)\n",
    "print(f'Cross val score of KNN with Heating Load: {scores1.mean()}')\n",
    "\n",
    "# For cooling load\n",
    "Regr_cool_KNN = KNN(n_neighbors = 4)\n",
    "scores2 = cross_val_score(Regr_cool_KNN,X2_test, y2_test,cv=10)\n",
    "print(f'Cross val score of KNN with Cooling Load: {scores2.mean()}')"
   ]
  },
  {
   "cell_type": "markdown",
   "metadata": {},
   "source": [
    "# 2) Decision Tree Regressor"
   ]
  },
  {
   "cell_type": "markdown",
   "metadata": {},
   "source": [
    "###### For heating data"
   ]
  },
  {
   "cell_type": "code",
   "execution_count": 83,
   "metadata": {},
   "outputs": [
    {
     "data": {
      "image/png": "[encoded data removed]",
      "text/plain": [
       "<Figure size 432x288 with 1 Axes>"
      ]
     },
     "metadata": {
      "needs_background": "light"
     },
     "output_type": "display_data"
    },
    {
     "name": "stdout",
     "output_type": "stream",
     "text": [
      "maximum accuracy is 0.9973253928727842 for split with 7\n"
     ]
    }
   ],
   "source": [
    "#By changing the max_depth\n",
    "acu11 = []\n",
    "dep1 =[]\n",
    "for i in range(1,20):\n",
    "\n",
    "    reg_dt11 = DTR(max_depth=i)\n",
    "\n",
    "\n",
    "    reg_dt11 = reg_dt11.fit(X1_train,y1_train)\n",
    "\n",
    "    #Predict the response for test dataset\n",
    "    y11_pred = reg_dt11.predict(X1_test)\n",
    "    dep1.append(i)\n",
    "    acu11.append(r2(y1_test, y11_pred))\n",
    "plt.plot(dep1,acu11)\n",
    "plt.xlabel(\"Max-depth\")\n",
    "plt.ylabel(\"Accuracy\")\n",
    "plt.title(\"Max-Depth vs Accuracy for heating load\")\n",
    "plt.show()\n",
    "max_accu11 = np.max(acu11)\n",
    "index = acu11.index(max_accu11)\n",
    "print(f\"maximum accuracy is {max_accu11} for split with {dep1[index]}\")"
   ]
  },
  {
   "cell_type": "code",
   "execution_count": 84,
   "metadata": {},
   "outputs": [
    {
     "data": {
      "text/plain": [
       "DecisionTreeRegressor(criterion='mse', max_depth=7, max_features=None,\n",
       "                      max_leaf_nodes=None, min_impurity_decrease=0.0,\n",
       "                      min_impurity_split=None, min_samples_leaf=1,\n",
       "                      min_samples_split=2, min_weight_fraction_leaf=0.0,\n",
       "                      presort=False, random_state=None, splitter='best')"
      ]
     },
     "execution_count": 84,
     "metadata": {},
     "output_type": "execute_result"
    }
   ],
   "source": [
    "# since maximum accuracy is with max_depth = 7\n",
    "Reg_heat_DTR = DTR(max_depth = 7)\n",
    "Reg_heat_DTR.fit(X1_train,y1_train)"
   ]
  },
  {
   "cell_type": "markdown",
   "metadata": {},
   "source": [
    "###### For cooling data"
   ]
  },
  {
   "cell_type": "code",
   "execution_count": 85,
   "metadata": {},
   "outputs": [
    {
     "data": {
      "image/png": "[encoded data removed]",
      "text/plain": [
       "<Figure size 432x288 with 1 Axes>"
      ]
     },
     "metadata": {
      "needs_background": "light"
     },
     "output_type": "display_data"
    },
    {
     "name": "stdout",
     "output_type": "stream",
     "text": [
      "maximum accuracy is 0.9597460297841806 for split with 7\n"
     ]
    }
   ],
   "source": [
    "#By changing the max_depth\n",
    "acu21 = []\n",
    "dep2 =[]\n",
    "for i in range(1,20):\n",
    "\n",
    "    reg_dt11 = DTR(max_depth=i)\n",
    "\n",
    "\n",
    "    reg_dt11 = reg_dt11.fit(X2_train,y2_train)\n",
    "\n",
    "    #Predict the response for test dataset\n",
    "    y11_pred = reg_dt11.predict(X2_test)\n",
    "    dep2.append(i)\n",
    "    acu21.append(r2(y2_test, y11_pred))\n",
    "plt.plot(dep2,acu21)\n",
    "plt.xlabel(\"Max-depth\")\n",
    "plt.ylabel(\"Accuracy\")\n",
    "plt.title(\"Max-Depth vs Accuracy for heating load\")\n",
    "plt.show()\n",
    "max_accu11 = np.max(acu21)\n",
    "index = acu21.index(max_accu11)\n",
    "print(f\"maximum accuracy is {max_accu11} for split with {dep2[index]}\")"
   ]
  },
  {
   "cell_type": "code",
   "execution_count": 86,
   "metadata": {},
   "outputs": [
    {
     "data": {
      "text/plain": [
       "DecisionTreeRegressor(criterion='mse', max_depth=7, max_features=None,\n",
       "                      max_leaf_nodes=None, min_impurity_decrease=0.0,\n",
       "                      min_impurity_split=None, min_samples_leaf=1,\n",
       "                      min_samples_split=2, min_weight_fraction_leaf=0.0,\n",
       "                      presort=False, random_state=None, splitter='best')"
      ]
     },
     "execution_count": 86,
     "metadata": {},
     "output_type": "execute_result"
    }
   ],
   "source": [
    "# since maximum accuracy is with max_depth = 7\n",
    "Reg_cool_DTR = DTR(max_depth = 7)\n",
    "Reg_cool_DTR.fit(X2_train,y2_train)"
   ]
  },
  {
   "cell_type": "markdown",
   "metadata": {},
   "source": [
    "###### Accuracy for both"
   ]
  },
  {
   "cell_type": "markdown",
   "metadata": {},
   "source": [
    "## Decision Tree score"
   ]
  },
  {
   "cell_type": "code",
   "execution_count": 87,
   "metadata": {},
   "outputs": [
    {
     "name": "stdout",
     "output_type": "stream",
     "text": [
      "Accuracy for heating data model is 0.9973662675333866\n",
      "Accuracy for cooling data model is 0.9594423270919162\n"
     ]
    }
   ],
   "source": [
    "print(f'Accuracy for heating data model is {Reg_heat_DTR.score(X1_test,y1_test)}')\n",
    "print(f'Accuracy for cooling data model is {Reg_cool_DTR.score(X2_test,y2_test)}')"
   ]
  },
  {
   "cell_type": "markdown",
   "metadata": {},
   "source": [
    "## RMSE value"
   ]
  },
  {
   "cell_type": "code",
   "execution_count": 88,
   "metadata": {},
   "outputs": [
    {
     "name": "stdout",
     "output_type": "stream",
     "text": [
      "Heating RMSE: 0.539289584603592\n",
      "Cooling RMSE: 1.9531194899809035\n"
     ]
    }
   ],
   "source": [
    "Y1_predict = Reg_heat_DTR.predict(X1_test)\n",
    "Y2_predict = Reg_cool_DTR.predict(X2_test)\n",
    "regression_model_mse_heat = mean_squared_error(y1_test,Y1_predict )\n",
    "regression_model_rmse_heat = math.sqrt(regression_model_mse_heat)\n",
    "regression_model_mse_cool = mean_squared_error( y2_test,Y2_predict )\n",
    "regression_model_rmse_cool = math.sqrt(regression_model_mse_cool)\n",
    "# Printing the RMSE values of test and train\n",
    "print(f'Heating RMSE: {regression_model_rmse_heat}')\n",
    "print(f'Cooling RMSE: {regression_model_rmse_cool}')"
   ]
  },
  {
   "cell_type": "markdown",
   "metadata": {},
   "source": [
    "## r2_score"
   ]
  },
  {
   "cell_type": "code",
   "execution_count": 89,
   "metadata": {},
   "outputs": [
    {
     "name": "stdout",
     "output_type": "stream",
     "text": [
      "Heating r2_score: 0.9973662675333865\n",
      "Cooling r2_score: 0.9594423270919162\n"
     ]
    }
   ],
   "source": [
    "heat_r2 = r2_score(y1_test,Y1_predict)\n",
    "cool_r2 = r2_score(y2_test,Y2_predict)\n",
    "print(f'Heating r2_score: {heat_r2}')\n",
    "print(f'Cooling r2_score: {cool_r2}')"
   ]
  },
  {
   "cell_type": "markdown",
   "metadata": {},
   "source": [
    "## Cross_val_score"
   ]
  },
  {
   "cell_type": "code",
   "execution_count": 90,
   "metadata": {},
   "outputs": [
    {
     "name": "stdout",
     "output_type": "stream",
     "text": [
      "Cross val score of DTR with Heating Load: 0.9692757887526108\n",
      "Cross val score of DTR with Cooling Load: 0.9069391942489551\n"
     ]
    }
   ],
   "source": [
    "# For heating load\n",
    "from sklearn.model_selection import cross_val_score\n",
    "Regr_heat_DTR = DTR()\n",
    "scores1 = cross_val_score(Regr_heat_DTR,X1_test, y1_test,cv=10)\n",
    "print(f'Cross val score of DTR with Heating Load: {scores1.mean()}')\n",
    "\n",
    "# For cooling load\n",
    "Regr_cool_DTR = DTR()\n",
    "scores2 = cross_val_score(Regr_cool_DTR,X2_test, y2_test,cv=10)\n",
    "print(f'Cross val score of DTR with Cooling Load: {scores2.mean()}')"
   ]
  },
  {
   "cell_type": "markdown",
   "metadata": {},
   "source": [
    "# 3) Random Forest Regressor"
   ]
  },
  {
   "cell_type": "markdown",
   "metadata": {},
   "source": [
    "###### For heating data"
   ]
  },
  {
   "cell_type": "code",
   "execution_count": 91,
   "metadata": {},
   "outputs": [
    {
     "name": "stderr",
     "output_type": "stream",
     "text": [
      "C:\\Users\\Admin\\Anaconda3\\lib\\site-packages\\sklearn\\ensemble\\forest.py:245: FutureWarning: The default value of n_estimators will change from 10 in version 0.20 to 100 in 0.22.\n",
      "  \"10 in version 0.20 to 100 in 0.22.\", FutureWarning)\n",
      "C:\\Users\\Admin\\Anaconda3\\lib\\site-packages\\sklearn\\ensemble\\forest.py:245: FutureWarning: The default value of n_estimators will change from 10 in version 0.20 to 100 in 0.22.\n",
      "  \"10 in version 0.20 to 100 in 0.22.\", FutureWarning)\n",
      "C:\\Users\\Admin\\Anaconda3\\lib\\site-packages\\sklearn\\ensemble\\forest.py:245: FutureWarning: The default value of n_estimators will change from 10 in version 0.20 to 100 in 0.22.\n",
      "  \"10 in version 0.20 to 100 in 0.22.\", FutureWarning)\n",
      "C:\\Users\\Admin\\Anaconda3\\lib\\site-packages\\sklearn\\ensemble\\forest.py:245: FutureWarning: The default value of n_estimators will change from 10 in version 0.20 to 100 in 0.22.\n",
      "  \"10 in version 0.20 to 100 in 0.22.\", FutureWarning)\n",
      "C:\\Users\\Admin\\Anaconda3\\lib\\site-packages\\sklearn\\ensemble\\forest.py:245: FutureWarning: The default value of n_estimators will change from 10 in version 0.20 to 100 in 0.22.\n",
      "  \"10 in version 0.20 to 100 in 0.22.\", FutureWarning)\n",
      "C:\\Users\\Admin\\Anaconda3\\lib\\site-packages\\sklearn\\ensemble\\forest.py:245: FutureWarning: The default value of n_estimators will change from 10 in version 0.20 to 100 in 0.22.\n",
      "  \"10 in version 0.20 to 100 in 0.22.\", FutureWarning)\n",
      "C:\\Users\\Admin\\Anaconda3\\lib\\site-packages\\sklearn\\ensemble\\forest.py:245: FutureWarning: The default value of n_estimators will change from 10 in version 0.20 to 100 in 0.22.\n",
      "  \"10 in version 0.20 to 100 in 0.22.\", FutureWarning)\n",
      "C:\\Users\\Admin\\Anaconda3\\lib\\site-packages\\sklearn\\ensemble\\forest.py:245: FutureWarning: The default value of n_estimators will change from 10 in version 0.20 to 100 in 0.22.\n",
      "  \"10 in version 0.20 to 100 in 0.22.\", FutureWarning)\n",
      "C:\\Users\\Admin\\Anaconda3\\lib\\site-packages\\sklearn\\ensemble\\forest.py:245: FutureWarning: The default value of n_estimators will change from 10 in version 0.20 to 100 in 0.22.\n",
      "  \"10 in version 0.20 to 100 in 0.22.\", FutureWarning)\n",
      "C:\\Users\\Admin\\Anaconda3\\lib\\site-packages\\sklearn\\ensemble\\forest.py:245: FutureWarning: The default value of n_estimators will change from 10 in version 0.20 to 100 in 0.22.\n",
      "  \"10 in version 0.20 to 100 in 0.22.\", FutureWarning)\n",
      "C:\\Users\\Admin\\Anaconda3\\lib\\site-packages\\sklearn\\ensemble\\forest.py:245: FutureWarning: The default value of n_estimators will change from 10 in version 0.20 to 100 in 0.22.\n",
      "  \"10 in version 0.20 to 100 in 0.22.\", FutureWarning)\n",
      "C:\\Users\\Admin\\Anaconda3\\lib\\site-packages\\sklearn\\ensemble\\forest.py:245: FutureWarning: The default value of n_estimators will change from 10 in version 0.20 to 100 in 0.22.\n",
      "  \"10 in version 0.20 to 100 in 0.22.\", FutureWarning)\n",
      "C:\\Users\\Admin\\Anaconda3\\lib\\site-packages\\sklearn\\ensemble\\forest.py:245: FutureWarning: The default value of n_estimators will change from 10 in version 0.20 to 100 in 0.22.\n",
      "  \"10 in version 0.20 to 100 in 0.22.\", FutureWarning)\n",
      "C:\\Users\\Admin\\Anaconda3\\lib\\site-packages\\sklearn\\ensemble\\forest.py:245: FutureWarning: The default value of n_estimators will change from 10 in version 0.20 to 100 in 0.22.\n",
      "  \"10 in version 0.20 to 100 in 0.22.\", FutureWarning)\n",
      "C:\\Users\\Admin\\Anaconda3\\lib\\site-packages\\sklearn\\ensemble\\forest.py:245: FutureWarning: The default value of n_estimators will change from 10 in version 0.20 to 100 in 0.22.\n",
      "  \"10 in version 0.20 to 100 in 0.22.\", FutureWarning)\n",
      "C:\\Users\\Admin\\Anaconda3\\lib\\site-packages\\sklearn\\ensemble\\forest.py:245: FutureWarning: The default value of n_estimators will change from 10 in version 0.20 to 100 in 0.22.\n",
      "  \"10 in version 0.20 to 100 in 0.22.\", FutureWarning)\n",
      "C:\\Users\\Admin\\Anaconda3\\lib\\site-packages\\sklearn\\ensemble\\forest.py:245: FutureWarning: The default value of n_estimators will change from 10 in version 0.20 to 100 in 0.22.\n",
      "  \"10 in version 0.20 to 100 in 0.22.\", FutureWarning)\n",
      "C:\\Users\\Admin\\Anaconda3\\lib\\site-packages\\sklearn\\ensemble\\forest.py:245: FutureWarning: The default value of n_estimators will change from 10 in version 0.20 to 100 in 0.22.\n",
      "  \"10 in version 0.20 to 100 in 0.22.\", FutureWarning)\n",
      "C:\\Users\\Admin\\Anaconda3\\lib\\site-packages\\sklearn\\ensemble\\forest.py:245: FutureWarning: The default value of n_estimators will change from 10 in version 0.20 to 100 in 0.22.\n",
      "  \"10 in version 0.20 to 100 in 0.22.\", FutureWarning)\n"
     ]
    },
    {
     "data": {
      "image/png": "[encoded data removed]",
      "text/plain": [
       "<Figure size 432x288 with 1 Axes>"
      ]
     },
     "metadata": {
      "needs_background": "light"
     },
     "output_type": "display_data"
    },
    {
     "name": "stdout",
     "output_type": "stream",
     "text": [
      "maximum accuracy is 0.996999006163531 for split with 18\n"
     ]
    }
   ],
   "source": [
    "#By changing the max_depth\n",
    "acu11 = []\n",
    "dep1 =[]\n",
    "for i in range(1,20):\n",
    "\n",
    "    reg_dt11 = RFR(max_depth=i)\n",
    "\n",
    "\n",
    "    reg_dt11 = reg_dt11.fit(X1_train,y1_train)\n",
    "\n",
    "    #Predict the response for test dataset\n",
    "    y11_pred = reg_dt11.predict(X1_test)\n",
    "    dep1.append(i)\n",
    "    acu11.append(r2(y1_test, y11_pred))\n",
    "plt.plot(dep1,acu11)\n",
    "plt.xlabel(\"Max-depth\")\n",
    "plt.ylabel(\"Accuracy\")\n",
    "plt.title(\"Max-Depth vs Accuracy for heating load\")\n",
    "plt.show()\n",
    "max_accu11 = np.max(acu11)\n",
    "index = acu11.index(max_accu11)\n",
    "print(f\"maximum accuracy is {max_accu11} for split with {dep1[index]}\")"
   ]
  },
  {
   "cell_type": "code",
   "execution_count": 92,
   "metadata": {},
   "outputs": [
    {
     "name": "stderr",
     "output_type": "stream",
     "text": [
      "C:\\Users\\Admin\\Anaconda3\\lib\\site-packages\\sklearn\\ensemble\\forest.py:245: FutureWarning: The default value of n_estimators will change from 10 in version 0.20 to 100 in 0.22.\n",
      "  \"10 in version 0.20 to 100 in 0.22.\", FutureWarning)\n"
     ]
    },
    {
     "data": {
      "text/plain": [
       "RandomForestRegressor(bootstrap=True, criterion='mse', max_depth=16,\n",
       "                      max_features='auto', max_leaf_nodes=None,\n",
       "                      min_impurity_decrease=0.0, min_impurity_split=None,\n",
       "                      min_samples_leaf=1, min_samples_split=2,\n",
       "                      min_weight_fraction_leaf=0.0, n_estimators=10,\n",
       "                      n_jobs=None, oob_score=False, random_state=None,\n",
       "                      verbose=0, warm_start=False)"
      ]
     },
     "execution_count": 92,
     "metadata": {},
     "output_type": "execute_result"
    }
   ],
   "source": [
    "Reg_heat_RFR = RFR(max_depth = 16)\n",
    "Reg_heat_RFR.fit(X1_train,y1_train)"
   ]
  },
  {
   "cell_type": "markdown",
   "metadata": {},
   "source": [
    "###### For cooling data"
   ]
  },
  {
   "cell_type": "code",
   "execution_count": 93,
   "metadata": {},
   "outputs": [
    {
     "name": "stderr",
     "output_type": "stream",
     "text": [
      "C:\\Users\\Admin\\Anaconda3\\lib\\site-packages\\sklearn\\ensemble\\forest.py:245: FutureWarning: The default value of n_estimators will change from 10 in version 0.20 to 100 in 0.22.\n",
      "  \"10 in version 0.20 to 100 in 0.22.\", FutureWarning)\n",
      "C:\\Users\\Admin\\Anaconda3\\lib\\site-packages\\sklearn\\ensemble\\forest.py:245: FutureWarning: The default value of n_estimators will change from 10 in version 0.20 to 100 in 0.22.\n",
      "  \"10 in version 0.20 to 100 in 0.22.\", FutureWarning)\n",
      "C:\\Users\\Admin\\Anaconda3\\lib\\site-packages\\sklearn\\ensemble\\forest.py:245: FutureWarning: The default value of n_estimators will change from 10 in version 0.20 to 100 in 0.22.\n",
      "  \"10 in version 0.20 to 100 in 0.22.\", FutureWarning)\n",
      "C:\\Users\\Admin\\Anaconda3\\lib\\site-packages\\sklearn\\ensemble\\forest.py:245: FutureWarning: The default value of n_estimators will change from 10 in version 0.20 to 100 in 0.22.\n",
      "  \"10 in version 0.20 to 100 in 0.22.\", FutureWarning)\n",
      "C:\\Users\\Admin\\Anaconda3\\lib\\site-packages\\sklearn\\ensemble\\forest.py:245: FutureWarning: The default value of n_estimators will change from 10 in version 0.20 to 100 in 0.22.\n",
      "  \"10 in version 0.20 to 100 in 0.22.\", FutureWarning)\n",
      "C:\\Users\\Admin\\Anaconda3\\lib\\site-packages\\sklearn\\ensemble\\forest.py:245: FutureWarning: The default value of n_estimators will change from 10 in version 0.20 to 100 in 0.22.\n",
      "  \"10 in version 0.20 to 100 in 0.22.\", FutureWarning)\n",
      "C:\\Users\\Admin\\Anaconda3\\lib\\site-packages\\sklearn\\ensemble\\forest.py:245: FutureWarning: The default value of n_estimators will change from 10 in version 0.20 to 100 in 0.22.\n",
      "  \"10 in version 0.20 to 100 in 0.22.\", FutureWarning)\n",
      "C:\\Users\\Admin\\Anaconda3\\lib\\site-packages\\sklearn\\ensemble\\forest.py:245: FutureWarning: The default value of n_estimators will change from 10 in version 0.20 to 100 in 0.22.\n",
      "  \"10 in version 0.20 to 100 in 0.22.\", FutureWarning)\n",
      "C:\\Users\\Admin\\Anaconda3\\lib\\site-packages\\sklearn\\ensemble\\forest.py:245: FutureWarning: The default value of n_estimators will change from 10 in version 0.20 to 100 in 0.22.\n",
      "  \"10 in version 0.20 to 100 in 0.22.\", FutureWarning)\n",
      "C:\\Users\\Admin\\Anaconda3\\lib\\site-packages\\sklearn\\ensemble\\forest.py:245: FutureWarning: The default value of n_estimators will change from 10 in version 0.20 to 100 in 0.22.\n",
      "  \"10 in version 0.20 to 100 in 0.22.\", FutureWarning)\n",
      "C:\\Users\\Admin\\Anaconda3\\lib\\site-packages\\sklearn\\ensemble\\forest.py:245: FutureWarning: The default value of n_estimators will change from 10 in version 0.20 to 100 in 0.22.\n",
      "  \"10 in version 0.20 to 100 in 0.22.\", FutureWarning)\n",
      "C:\\Users\\Admin\\Anaconda3\\lib\\site-packages\\sklearn\\ensemble\\forest.py:245: FutureWarning: The default value of n_estimators will change from 10 in version 0.20 to 100 in 0.22.\n",
      "  \"10 in version 0.20 to 100 in 0.22.\", FutureWarning)\n",
      "C:\\Users\\Admin\\Anaconda3\\lib\\site-packages\\sklearn\\ensemble\\forest.py:245: FutureWarning: The default value of n_estimators will change from 10 in version 0.20 to 100 in 0.22.\n",
      "  \"10 in version 0.20 to 100 in 0.22.\", FutureWarning)\n",
      "C:\\Users\\Admin\\Anaconda3\\lib\\site-packages\\sklearn\\ensemble\\forest.py:245: FutureWarning: The default value of n_estimators will change from 10 in version 0.20 to 100 in 0.22.\n",
      "  \"10 in version 0.20 to 100 in 0.22.\", FutureWarning)\n",
      "C:\\Users\\Admin\\Anaconda3\\lib\\site-packages\\sklearn\\ensemble\\forest.py:245: FutureWarning: The default value of n_estimators will change from 10 in version 0.20 to 100 in 0.22.\n",
      "  \"10 in version 0.20 to 100 in 0.22.\", FutureWarning)\n",
      "C:\\Users\\Admin\\Anaconda3\\lib\\site-packages\\sklearn\\ensemble\\forest.py:245: FutureWarning: The default value of n_estimators will change from 10 in version 0.20 to 100 in 0.22.\n",
      "  \"10 in version 0.20 to 100 in 0.22.\", FutureWarning)\n",
      "C:\\Users\\Admin\\Anaconda3\\lib\\site-packages\\sklearn\\ensemble\\forest.py:245: FutureWarning: The default value of n_estimators will change from 10 in version 0.20 to 100 in 0.22.\n",
      "  \"10 in version 0.20 to 100 in 0.22.\", FutureWarning)\n",
      "C:\\Users\\Admin\\Anaconda3\\lib\\site-packages\\sklearn\\ensemble\\forest.py:245: FutureWarning: The default value of n_estimators will change from 10 in version 0.20 to 100 in 0.22.\n",
      "  \"10 in version 0.20 to 100 in 0.22.\", FutureWarning)\n",
      "C:\\Users\\Admin\\Anaconda3\\lib\\site-packages\\sklearn\\ensemble\\forest.py:245: FutureWarning: The default value of n_estimators will change from 10 in version 0.20 to 100 in 0.22.\n",
      "  \"10 in version 0.20 to 100 in 0.22.\", FutureWarning)\n"
     ]
    },
    {
     "data": {
      "image/png": "[encoded data removed]",
      "text/plain": [
       "<Figure size 432x288 with 1 Axes>"
      ]
     },
     "metadata": {
      "needs_background": "light"
     },
     "output_type": "display_data"
    },
    {
     "name": "stdout",
     "output_type": "stream",
     "text": [
      "maximum accuracy is 0.9625102259561598 for split with 8\n"
     ]
    }
   ],
   "source": [
    "#By changing the max_depth\n",
    "acu21 = []\n",
    "dep2 =[]\n",
    "for i in range(1,20):\n",
    "\n",
    "    reg_dt11 = RFR(max_depth=i)\n",
    "\n",
    "\n",
    "    reg_dt11 = reg_dt11.fit(X2_train,y2_train)\n",
    "\n",
    "    #Predict the response for test dataset\n",
    "    y11_pred = reg_dt11.predict(X2_test)\n",
    "    dep2.append(i)\n",
    "    acu21.append(r2(y2_test, y11_pred))\n",
    "plt.plot(dep2,acu21)\n",
    "plt.xlabel(\"Max-depth\")\n",
    "plt.ylabel(\"Accuracy\")\n",
    "plt.title(\"Max-Depth vs Accuracy for heating load\")\n",
    "plt.show()\n",
    "max_accu11 = np.max(acu21)\n",
    "index = acu21.index(max_accu11)\n",
    "print(f\"maximum accuracy is {max_accu11} for split with {dep2[index]}\")"
   ]
  },
  {
   "cell_type": "code",
   "execution_count": 94,
   "metadata": {},
   "outputs": [
    {
     "name": "stderr",
     "output_type": "stream",
     "text": [
      "C:\\Users\\Admin\\Anaconda3\\lib\\site-packages\\sklearn\\ensemble\\forest.py:245: FutureWarning: The default value of n_estimators will change from 10 in version 0.20 to 100 in 0.22.\n",
      "  \"10 in version 0.20 to 100 in 0.22.\", FutureWarning)\n"
     ]
    },
    {
     "data": {
      "text/plain": [
       "RandomForestRegressor(bootstrap=True, criterion='mse', max_depth=5,\n",
       "                      max_features='auto', max_leaf_nodes=None,\n",
       "                      min_impurity_decrease=0.0, min_impurity_split=None,\n",
       "                      min_samples_leaf=1, min_samples_split=2,\n",
       "                      min_weight_fraction_leaf=0.0, n_estimators=10,\n",
       "                      n_jobs=None, oob_score=False, random_state=None,\n",
       "                      verbose=0, warm_start=False)"
      ]
     },
     "execution_count": 94,
     "metadata": {},
     "output_type": "execute_result"
    }
   ],
   "source": [
    "Reg_cool_RFR = RFR(max_depth = 5)\n",
    "Reg_cool_RFR.fit(X2_train,y2_train)"
   ]
  },
  {
   "cell_type": "markdown",
   "metadata": {},
   "source": [
    "###### Accuracy for both"
   ]
  },
  {
   "cell_type": "markdown",
   "metadata": {},
   "source": [
    "## Random forest score"
   ]
  },
  {
   "cell_type": "code",
   "execution_count": 95,
   "metadata": {},
   "outputs": [
    {
     "name": "stdout",
     "output_type": "stream",
     "text": [
      "Accuracy for heating data model is 0.9965579645089997\n",
      "Accuracy for cooling data model is 0.95880728364512\n"
     ]
    }
   ],
   "source": [
    "print(f'Accuracy for heating data model is {Reg_heat_RFR.score(X1_test,y1_test)}')\n",
    "print(f'Accuracy for cooling data model is {Reg_cool_RFR.score(X2_test,y2_test)}')"
   ]
  },
  {
   "cell_type": "markdown",
   "metadata": {},
   "source": [
    "## RMSE value"
   ]
  },
  {
   "cell_type": "code",
   "execution_count": 96,
   "metadata": {},
   "outputs": [
    {
     "name": "stdout",
     "output_type": "stream",
     "text": [
      "Heating RMSE: 0.6165153243661255\n",
      "Cooling RMSE: 1.9683508646706458\n"
     ]
    }
   ],
   "source": [
    "Y1_predict = Reg_heat_RFR.predict(X1_test)\n",
    "Y2_predict = Reg_cool_RFR.predict(X2_test)\n",
    "regression_model_mse_heat = mean_squared_error(y1_test,Y1_predict )\n",
    "regression_model_rmse_heat = math.sqrt(regression_model_mse_heat)\n",
    "regression_model_mse_cool = mean_squared_error( y2_test,Y2_predict )\n",
    "regression_model_rmse_cool = math.sqrt(regression_model_mse_cool)\n",
    "# Printing the RMSE values of test and train\n",
    "print(f'Heating RMSE: {regression_model_rmse_heat}')\n",
    "print(f'Cooling RMSE: {regression_model_rmse_cool}')"
   ]
  },
  {
   "cell_type": "markdown",
   "metadata": {},
   "source": [
    "## r2_score"
   ]
  },
  {
   "cell_type": "code",
   "execution_count": 97,
   "metadata": {},
   "outputs": [
    {
     "name": "stdout",
     "output_type": "stream",
     "text": [
      "Heating r2_score: 0.9965579645089997\n",
      "Cooling r2_score: 0.95880728364512\n"
     ]
    }
   ],
   "source": [
    "heat_r2 = r2_score(y1_test,Y1_predict)\n",
    "cool_r2 = r2_score(y2_test,Y2_predict)\n",
    "print(f'Heating r2_score: {heat_r2}')\n",
    "print(f'Cooling r2_score: {cool_r2}')"
   ]
  },
  {
   "cell_type": "markdown",
   "metadata": {},
   "source": [
    "## Cross_val_score"
   ]
  },
  {
   "cell_type": "code",
   "execution_count": 98,
   "metadata": {},
   "outputs": [
    {
     "name": "stderr",
     "output_type": "stream",
     "text": [
      "C:\\Users\\Admin\\Anaconda3\\lib\\site-packages\\sklearn\\ensemble\\forest.py:245: FutureWarning: The default value of n_estimators will change from 10 in version 0.20 to 100 in 0.22.\n",
      "  \"10 in version 0.20 to 100 in 0.22.\", FutureWarning)\n",
      "C:\\Users\\Admin\\Anaconda3\\lib\\site-packages\\sklearn\\ensemble\\forest.py:245: FutureWarning: The default value of n_estimators will change from 10 in version 0.20 to 100 in 0.22.\n",
      "  \"10 in version 0.20 to 100 in 0.22.\", FutureWarning)\n",
      "C:\\Users\\Admin\\Anaconda3\\lib\\site-packages\\sklearn\\ensemble\\forest.py:245: FutureWarning: The default value of n_estimators will change from 10 in version 0.20 to 100 in 0.22.\n",
      "  \"10 in version 0.20 to 100 in 0.22.\", FutureWarning)\n",
      "C:\\Users\\Admin\\Anaconda3\\lib\\site-packages\\sklearn\\ensemble\\forest.py:245: FutureWarning: The default value of n_estimators will change from 10 in version 0.20 to 100 in 0.22.\n",
      "  \"10 in version 0.20 to 100 in 0.22.\", FutureWarning)\n",
      "C:\\Users\\Admin\\Anaconda3\\lib\\site-packages\\sklearn\\ensemble\\forest.py:245: FutureWarning: The default value of n_estimators will change from 10 in version 0.20 to 100 in 0.22.\n",
      "  \"10 in version 0.20 to 100 in 0.22.\", FutureWarning)\n",
      "C:\\Users\\Admin\\Anaconda3\\lib\\site-packages\\sklearn\\ensemble\\forest.py:245: FutureWarning: The default value of n_estimators will change from 10 in version 0.20 to 100 in 0.22.\n",
      "  \"10 in version 0.20 to 100 in 0.22.\", FutureWarning)\n",
      "C:\\Users\\Admin\\Anaconda3\\lib\\site-packages\\sklearn\\ensemble\\forest.py:245: FutureWarning: The default value of n_estimators will change from 10 in version 0.20 to 100 in 0.22.\n",
      "  \"10 in version 0.20 to 100 in 0.22.\", FutureWarning)\n",
      "C:\\Users\\Admin\\Anaconda3\\lib\\site-packages\\sklearn\\ensemble\\forest.py:245: FutureWarning: The default value of n_estimators will change from 10 in version 0.20 to 100 in 0.22.\n",
      "  \"10 in version 0.20 to 100 in 0.22.\", FutureWarning)\n",
      "C:\\Users\\Admin\\Anaconda3\\lib\\site-packages\\sklearn\\ensemble\\forest.py:245: FutureWarning: The default value of n_estimators will change from 10 in version 0.20 to 100 in 0.22.\n",
      "  \"10 in version 0.20 to 100 in 0.22.\", FutureWarning)\n",
      "C:\\Users\\Admin\\Anaconda3\\lib\\site-packages\\sklearn\\ensemble\\forest.py:245: FutureWarning: The default value of n_estimators will change from 10 in version 0.20 to 100 in 0.22.\n",
      "  \"10 in version 0.20 to 100 in 0.22.\", FutureWarning)\n",
      "C:\\Users\\Admin\\Anaconda3\\lib\\site-packages\\sklearn\\ensemble\\forest.py:245: FutureWarning: The default value of n_estimators will change from 10 in version 0.20 to 100 in 0.22.\n",
      "  \"10 in version 0.20 to 100 in 0.22.\", FutureWarning)\n",
      "C:\\Users\\Admin\\Anaconda3\\lib\\site-packages\\sklearn\\ensemble\\forest.py:245: FutureWarning: The default value of n_estimators will change from 10 in version 0.20 to 100 in 0.22.\n",
      "  \"10 in version 0.20 to 100 in 0.22.\", FutureWarning)\n",
      "C:\\Users\\Admin\\Anaconda3\\lib\\site-packages\\sklearn\\ensemble\\forest.py:245: FutureWarning: The default value of n_estimators will change from 10 in version 0.20 to 100 in 0.22.\n",
      "  \"10 in version 0.20 to 100 in 0.22.\", FutureWarning)\n",
      "C:\\Users\\Admin\\Anaconda3\\lib\\site-packages\\sklearn\\ensemble\\forest.py:245: FutureWarning: The default value of n_estimators will change from 10 in version 0.20 to 100 in 0.22.\n",
      "  \"10 in version 0.20 to 100 in 0.22.\", FutureWarning)\n",
      "C:\\Users\\Admin\\Anaconda3\\lib\\site-packages\\sklearn\\ensemble\\forest.py:245: FutureWarning: The default value of n_estimators will change from 10 in version 0.20 to 100 in 0.22.\n",
      "  \"10 in version 0.20 to 100 in 0.22.\", FutureWarning)\n"
     ]
    },
    {
     "name": "stdout",
     "output_type": "stream",
     "text": [
      "Cross val score of RFR with Heating Load: 0.9796014540464292\n",
      "Cross val score of RFR with Cooling Load: 0.9357321110028114\n"
     ]
    },
    {
     "name": "stderr",
     "output_type": "stream",
     "text": [
      "C:\\Users\\Admin\\Anaconda3\\lib\\site-packages\\sklearn\\ensemble\\forest.py:245: FutureWarning: The default value of n_estimators will change from 10 in version 0.20 to 100 in 0.22.\n",
      "  \"10 in version 0.20 to 100 in 0.22.\", FutureWarning)\n",
      "C:\\Users\\Admin\\Anaconda3\\lib\\site-packages\\sklearn\\ensemble\\forest.py:245: FutureWarning: The default value of n_estimators will change from 10 in version 0.20 to 100 in 0.22.\n",
      "  \"10 in version 0.20 to 100 in 0.22.\", FutureWarning)\n",
      "C:\\Users\\Admin\\Anaconda3\\lib\\site-packages\\sklearn\\ensemble\\forest.py:245: FutureWarning: The default value of n_estimators will change from 10 in version 0.20 to 100 in 0.22.\n",
      "  \"10 in version 0.20 to 100 in 0.22.\", FutureWarning)\n",
      "C:\\Users\\Admin\\Anaconda3\\lib\\site-packages\\sklearn\\ensemble\\forest.py:245: FutureWarning: The default value of n_estimators will change from 10 in version 0.20 to 100 in 0.22.\n",
      "  \"10 in version 0.20 to 100 in 0.22.\", FutureWarning)\n",
      "C:\\Users\\Admin\\Anaconda3\\lib\\site-packages\\sklearn\\ensemble\\forest.py:245: FutureWarning: The default value of n_estimators will change from 10 in version 0.20 to 100 in 0.22.\n",
      "  \"10 in version 0.20 to 100 in 0.22.\", FutureWarning)\n"
     ]
    }
   ],
   "source": [
    "# For heating load\n",
    "from sklearn.model_selection import cross_val_score\n",
    "Regr_heat_RFR = RFR()\n",
    "scores1 = cross_val_score(Regr_heat_RFR,X1_test, y1_test,cv=10)\n",
    "print(f'Cross val score of RFR with Heating Load: {scores1.mean()}')\n",
    "\n",
    "# For cooling load\n",
    "Regr_cool_RFR = RFR()\n",
    "scores2 = cross_val_score(Regr_cool_RFR,X2_test, y2_test,cv=10)\n",
    "print(f'Cross val score of RFR with Cooling Load: {scores2.mean()}')"
   ]
  },
  {
   "cell_type": "code",
   "execution_count": null,
   "metadata": {},
   "outputs": [],
   "source": []
  }
 ],
 "metadata": {
  "kernelspec": {
   "display_name": "Python 3",
   "language": "python",
   "name": "python3"
  },
  "language_info": {
   "codemirror_mode": {
    "name": "ipython",
    "version": 3
   },
   "file_extension": ".py",
   "mimetype": "text/x-python",
   "name": "python",
   "nbconvert_exporter": "python",
   "pygments_lexer": "ipython3",
   "version": "3.7.3"
  }
 },
 "nbformat": 4,
 "nbformat_minor": 2
}
